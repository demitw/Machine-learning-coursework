{
  "nbformat": 4,
  "nbformat_minor": 0,
  "metadata": {
    "colab": {
      "provenance": [],
      "authorship_tag": "ABX9TyOvY+nGCFq9wQ49nOZyY6kw",
      "include_colab_link": true
    },
    "kernelspec": {
      "name": "python3",
      "display_name": "Python 3"
    },
    "language_info": {
      "name": "python"
    }
  },
  "cells": [
    {
      "cell_type": "markdown",
      "metadata": {
        "id": "view-in-github",
        "colab_type": "text"
      },
      "source": [
        "<a href=\"https://colab.research.google.com/github/demitw/Machine-learning-coursework/blob/model/Model_Training/randomforset.ipynb\" target=\"_parent\"><img src=\"https://colab.research.google.com/assets/colab-badge.svg\" alt=\"Open In Colab\"/></a>"
      ]
    },
    {
      "cell_type": "code",
      "execution_count": 1,
      "metadata": {
        "colab": {
          "base_uri": "https://localhost:8080/"
        },
        "id": "iJlSJjg9sc9S",
        "outputId": "69f93885-c18f-4576-fd00-c648c4e5ce72"
      },
      "outputs": [
        {
          "output_type": "stream",
          "name": "stdout",
          "text": [
            "<class 'pandas.core.frame.DataFrame'>\n",
            "RangeIndex: 41188 entries, 0 to 41187\n",
            "Data columns (total 21 columns):\n",
            " #   Column          Non-Null Count  Dtype  \n",
            "---  ------          --------------  -----  \n",
            " 0   age             41188 non-null  int64  \n",
            " 1   job             41188 non-null  object \n",
            " 2   marital         41188 non-null  object \n",
            " 3   education       41188 non-null  object \n",
            " 4   default         41188 non-null  object \n",
            " 5   housing         41188 non-null  object \n",
            " 6   loan            41188 non-null  object \n",
            " 7   contact         41188 non-null  object \n",
            " 8   month           41188 non-null  object \n",
            " 9   day_of_week     41188 non-null  object \n",
            " 10  duration        41188 non-null  int64  \n",
            " 11  campaign        41188 non-null  int64  \n",
            " 12  pdays           41188 non-null  int64  \n",
            " 13  previous        41188 non-null  int64  \n",
            " 14  poutcome        41188 non-null  object \n",
            " 15  emp.var.rate    41188 non-null  float64\n",
            " 16  cons.price.idx  41188 non-null  float64\n",
            " 17  cons.conf.idx   41188 non-null  float64\n",
            " 18  euribor3m       41188 non-null  float64\n",
            " 19  nr.employed     41188 non-null  float64\n",
            " 20  y               41188 non-null  object \n",
            "dtypes: float64(5), int64(5), object(11)\n",
            "memory usage: 6.6+ MB\n",
            "None\n",
            "   age        job  marital    education  default housing loan    contact  \\\n",
            "0   56  housemaid  married     basic.4y       no      no   no  telephone   \n",
            "1   57   services  married  high.school  unknown      no   no  telephone   \n",
            "2   37   services  married  high.school       no     yes   no  telephone   \n",
            "3   40     admin.  married     basic.6y       no      no   no  telephone   \n",
            "4   56   services  married  high.school       no      no  yes  telephone   \n",
            "\n",
            "  month day_of_week  ...  campaign  pdays  previous     poutcome emp.var.rate  \\\n",
            "0   may         mon  ...         1    999         0  nonexistent          1.1   \n",
            "1   may         mon  ...         1    999         0  nonexistent          1.1   \n",
            "2   may         mon  ...         1    999         0  nonexistent          1.1   \n",
            "3   may         mon  ...         1    999         0  nonexistent          1.1   \n",
            "4   may         mon  ...         1    999         0  nonexistent          1.1   \n",
            "\n",
            "   cons.price.idx  cons.conf.idx  euribor3m  nr.employed   y  \n",
            "0          93.994          -36.4      4.857       5191.0  no  \n",
            "1          93.994          -36.4      4.857       5191.0  no  \n",
            "2          93.994          -36.4      4.857       5191.0  no  \n",
            "3          93.994          -36.4      4.857       5191.0  no  \n",
            "4          93.994          -36.4      4.857       5191.0  no  \n",
            "\n",
            "[5 rows x 21 columns]\n"
          ]
        }
      ],
      "source": [
        "import pandas as pd\n",
        "\n",
        "# Load the dataset\n",
        "df = pd.read_csv('bank-additional-full.csv', sep=';')\n",
        "\n",
        "# Display basic info\n",
        "print(df.info())\n",
        "print(df.head())\n"
      ]
    },
    {
      "cell_type": "code",
      "source": [
        "# Check for missing values in each column\n",
        "print(df.isnull().sum())\n",
        "\n",
        "missing_percentage = df.isnull().sum() / len(df) * 100\n",
        "print(missing_percentage)"
      ],
      "metadata": {
        "colab": {
          "base_uri": "https://localhost:8080/"
        },
        "id": "TQXIj3ri6lFX",
        "outputId": "0dfe32d9-04e2-4c50-9518-654d20459103"
      },
      "execution_count": 2,
      "outputs": [
        {
          "output_type": "stream",
          "name": "stdout",
          "text": [
            "age               0\n",
            "job               0\n",
            "marital           0\n",
            "education         0\n",
            "default           0\n",
            "housing           0\n",
            "loan              0\n",
            "contact           0\n",
            "month             0\n",
            "day_of_week       0\n",
            "duration          0\n",
            "campaign          0\n",
            "pdays             0\n",
            "previous          0\n",
            "poutcome          0\n",
            "emp.var.rate      0\n",
            "cons.price.idx    0\n",
            "cons.conf.idx     0\n",
            "euribor3m         0\n",
            "nr.employed       0\n",
            "y                 0\n",
            "dtype: int64\n",
            "age               0.0\n",
            "job               0.0\n",
            "marital           0.0\n",
            "education         0.0\n",
            "default           0.0\n",
            "housing           0.0\n",
            "loan              0.0\n",
            "contact           0.0\n",
            "month             0.0\n",
            "day_of_week       0.0\n",
            "duration          0.0\n",
            "campaign          0.0\n",
            "pdays             0.0\n",
            "previous          0.0\n",
            "poutcome          0.0\n",
            "emp.var.rate      0.0\n",
            "cons.price.idx    0.0\n",
            "cons.conf.idx     0.0\n",
            "euribor3m         0.0\n",
            "nr.employed       0.0\n",
            "y                 0.0\n",
            "dtype: float64\n"
          ]
        }
      ]
    },
    {
      "cell_type": "code",
      "source": [
        "unknown_counts = (df == \"unknown\").sum()\n",
        "print(unknown_counts)\n",
        "\n",
        "unknown_percentage = (df == \"unknown\").mean() * 100\n",
        "print(unknown_percentage)\n",
        "\n",
        "# Filter columns with at least one \"unknown\"\n",
        "columns_with_unknown = unknown_counts[unknown_counts > 0]\n",
        "print(columns_with_unknown)\n"
      ],
      "metadata": {
        "colab": {
          "base_uri": "https://localhost:8080/"
        },
        "id": "7pevbeds6qLf",
        "outputId": "288bbcca-40ed-43dc-af14-5e57cd00e890"
      },
      "execution_count": 3,
      "outputs": [
        {
          "output_type": "stream",
          "name": "stdout",
          "text": [
            "age                  0\n",
            "job                330\n",
            "marital             80\n",
            "education         1731\n",
            "default           8597\n",
            "housing            990\n",
            "loan               990\n",
            "contact              0\n",
            "month                0\n",
            "day_of_week          0\n",
            "duration             0\n",
            "campaign             0\n",
            "pdays                0\n",
            "previous             0\n",
            "poutcome             0\n",
            "emp.var.rate         0\n",
            "cons.price.idx       0\n",
            "cons.conf.idx        0\n",
            "euribor3m            0\n",
            "nr.employed          0\n",
            "y                    0\n",
            "dtype: int64\n",
            "age                0.000000\n",
            "job                0.801204\n",
            "marital            0.194231\n",
            "education          4.202680\n",
            "default           20.872584\n",
            "housing            2.403613\n",
            "loan               2.403613\n",
            "contact            0.000000\n",
            "month              0.000000\n",
            "day_of_week        0.000000\n",
            "duration           0.000000\n",
            "campaign           0.000000\n",
            "pdays              0.000000\n",
            "previous           0.000000\n",
            "poutcome           0.000000\n",
            "emp.var.rate       0.000000\n",
            "cons.price.idx     0.000000\n",
            "cons.conf.idx      0.000000\n",
            "euribor3m          0.000000\n",
            "nr.employed        0.000000\n",
            "y                  0.000000\n",
            "dtype: float64\n",
            "job           330\n",
            "marital        80\n",
            "education    1731\n",
            "default      8597\n",
            "housing       990\n",
            "loan          990\n",
            "dtype: int64\n"
          ]
        }
      ]
    },
    {
      "cell_type": "code",
      "source": [
        "# Drop rows with 'unknown' in 'loan' or 'housing' columns\n",
        "df_cleaned = df[(df['loan'] != 'unknown') & (df['housing'] != 'unknown')]\n",
        "\n",
        "# Check the shape of the new dataset\n",
        "print(\"Original dataset shape:\", df.shape)\n",
        "print(\"Cleaned dataset shape:\", df_cleaned.shape)\n",
        "\n"
      ],
      "metadata": {
        "colab": {
          "base_uri": "https://localhost:8080/"
        },
        "id": "DF927_TD6ubz",
        "outputId": "9f0c9672-058b-4fa1-d058-0f0a749653bc"
      },
      "execution_count": 4,
      "outputs": [
        {
          "output_type": "stream",
          "name": "stdout",
          "text": [
            "Original dataset shape: (41188, 21)\n",
            "Cleaned dataset shape: (40198, 21)\n"
          ]
        }
      ]
    },
    {
      "cell_type": "code",
      "source": [
        "unknown_counts = (df_cleaned == \"unknown\").sum()\n",
        "print(unknown_counts)"
      ],
      "metadata": {
        "colab": {
          "base_uri": "https://localhost:8080/"
        },
        "id": "mM026ufS-Rtj",
        "outputId": "3507e705-c7d7-4292-baf4-713de59d4a4b"
      },
      "execution_count": 5,
      "outputs": [
        {
          "output_type": "stream",
          "name": "stdout",
          "text": [
            "age                  0\n",
            "job                325\n",
            "marital             79\n",
            "education         1691\n",
            "default           8370\n",
            "housing              0\n",
            "loan                 0\n",
            "contact              0\n",
            "month                0\n",
            "day_of_week          0\n",
            "duration             0\n",
            "campaign             0\n",
            "pdays                0\n",
            "previous             0\n",
            "poutcome             0\n",
            "emp.var.rate         0\n",
            "cons.price.idx       0\n",
            "cons.conf.idx        0\n",
            "euribor3m            0\n",
            "nr.employed          0\n",
            "y                    0\n",
            "dtype: int64\n"
          ]
        }
      ]
    },
    {
      "cell_type": "code",
      "source": [
        "# Drop the 'duration' column\n",
        "df_cleaned = df_cleaned.drop(columns=['duration'])\n",
        "\n",
        "# Check the result\n",
        "print(df_cleaned.head())\n"
      ],
      "metadata": {
        "colab": {
          "base_uri": "https://localhost:8080/"
        },
        "id": "L8-JqfhnAJyS",
        "outputId": "eb1681eb-ea37-4659-c42e-e031c77a3b36"
      },
      "execution_count": 6,
      "outputs": [
        {
          "output_type": "stream",
          "name": "stdout",
          "text": [
            "   age        job  marital    education  default housing loan    contact  \\\n",
            "0   56  housemaid  married     basic.4y       no      no   no  telephone   \n",
            "1   57   services  married  high.school  unknown      no   no  telephone   \n",
            "2   37   services  married  high.school       no     yes   no  telephone   \n",
            "3   40     admin.  married     basic.6y       no      no   no  telephone   \n",
            "4   56   services  married  high.school       no      no  yes  telephone   \n",
            "\n",
            "  month day_of_week  campaign  pdays  previous     poutcome  emp.var.rate  \\\n",
            "0   may         mon         1    999         0  nonexistent           1.1   \n",
            "1   may         mon         1    999         0  nonexistent           1.1   \n",
            "2   may         mon         1    999         0  nonexistent           1.1   \n",
            "3   may         mon         1    999         0  nonexistent           1.1   \n",
            "4   may         mon         1    999         0  nonexistent           1.1   \n",
            "\n",
            "   cons.price.idx  cons.conf.idx  euribor3m  nr.employed   y  \n",
            "0          93.994          -36.4      4.857       5191.0  no  \n",
            "1          93.994          -36.4      4.857       5191.0  no  \n",
            "2          93.994          -36.4      4.857       5191.0  no  \n",
            "3          93.994          -36.4      4.857       5191.0  no  \n",
            "4          93.994          -36.4      4.857       5191.0  no  \n"
          ]
        }
      ]
    },
    {
      "cell_type": "code",
      "source": [
        "# Convert 'pdays' column to binary\n",
        "df_cleaned['pdays'] = df_cleaned['pdays'].apply(lambda x: 0 if x == 999 else 1)\n",
        "\n",
        "# Check the result\n",
        "print(df_cleaned['pdays'].head())\n"
      ],
      "metadata": {
        "colab": {
          "base_uri": "https://localhost:8080/"
        },
        "id": "gqaOjcEpAiY4",
        "outputId": "c0a93001-bb6f-463a-8347-bee2db5e3478"
      },
      "execution_count": 7,
      "outputs": [
        {
          "output_type": "stream",
          "name": "stdout",
          "text": [
            "0    0\n",
            "1    0\n",
            "2    0\n",
            "3    0\n",
            "4    0\n",
            "Name: pdays, dtype: int64\n"
          ]
        }
      ]
    },
    {
      "cell_type": "code",
      "source": [
        "# Check unique values in the 'pdays' column\n",
        "unique_pdays = df_cleaned['pdays'].unique()\n",
        "\n",
        "# Print the unique values\n",
        "print(unique_pdays)\n"
      ],
      "metadata": {
        "colab": {
          "base_uri": "https://localhost:8080/"
        },
        "id": "-03OZtsKAmoQ",
        "outputId": "9ae9e570-3b52-47ca-feb5-5052df172928"
      },
      "execution_count": 8,
      "outputs": [
        {
          "output_type": "stream",
          "name": "stdout",
          "text": [
            "[0 1]\n"
          ]
        }
      ]
    },
    {
      "cell_type": "code",
      "source": [
        "# Check class distribution of the target variable 'y'\n",
        "class_counts = df_cleaned['y'].value_counts()\n",
        "\n",
        "# Print the class counts\n",
        "print(class_counts)\n",
        "\n",
        "# Optionally, display the percentage of each class\n",
        "print(class_counts / len(df_cleaned) * 100)\n"
      ],
      "metadata": {
        "colab": {
          "base_uri": "https://localhost:8080/"
        },
        "id": "7DTN95eXA8AB",
        "outputId": "aa69f870-06af-4a81-b69d-9f526f0f4ee6"
      },
      "execution_count": 9,
      "outputs": [
        {
          "output_type": "stream",
          "name": "stdout",
          "text": [
            "y\n",
            "no     35665\n",
            "yes     4533\n",
            "Name: count, dtype: int64\n",
            "y\n",
            "no     88.72332\n",
            "yes    11.27668\n",
            "Name: count, dtype: float64\n"
          ]
        }
      ]
    },
    {
      "cell_type": "code",
      "source": [
        "import matplotlib.pyplot as plt\n",
        "\n",
        "# Plot the class distribution\n",
        "df_cleaned['y'].value_counts().plot(kind='bar', color=['skyblue', 'lightcoral'])\n",
        "plt.title('Class Distribution of Target Variable')\n",
        "plt.xlabel('Class')\n",
        "plt.ylabel('Frequency')\n",
        "plt.xticks(rotation=0)\n",
        "plt.show()\n"
      ],
      "metadata": {
        "colab": {
          "base_uri": "https://localhost:8080/",
          "height": 472
        },
        "id": "GvWeBzdtBAnv",
        "outputId": "7476759e-e1e3-423a-9304-b82cd9728ac6"
      },
      "execution_count": 10,
      "outputs": [
        {
          "output_type": "display_data",
          "data": {
            "text/plain": [
              "<Figure size 640x480 with 1 Axes>"
            ],
            "image/png": "[encoded data removed]"
          },
          "metadata": {}
        }
      ]
    }
  ]
}