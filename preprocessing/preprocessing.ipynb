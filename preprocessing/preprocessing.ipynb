{
  "cells": [
    {
      "cell_type": "markdown",
      "metadata": {
        "id": "view-in-github",
        "colab_type": "text"
      },
      "source": [
        "<a href=\"https://colab.research.google.com/github/demitw/Machine-learning-coursework/blob/preprocessing/preprocessing/preprocessing.ipynb\" target=\"_parent\"><img src=\"https://colab.research.google.com/assets/colab-badge.svg\" alt=\"Open In Colab\"/></a>"
      ]
    },
    {
      "cell_type": "code",
      "execution_count": 44,
      "metadata": {
        "colab": {
          "base_uri": "https://localhost:8080/"
        },
        "id": "q5zctL69Zcok",
        "outputId": "adaf1703-198d-468a-a704-b2412ca46b2c"
      },
      "outputs": [
        {
          "output_type": "stream",
          "name": "stdout",
          "text": [
            "<class 'pandas.core.frame.DataFrame'>\n",
            "RangeIndex: 41188 entries, 0 to 41187\n",
            "Data columns (total 21 columns):\n",
            " #   Column          Non-Null Count  Dtype  \n",
            "---  ------          --------------  -----  \n",
            " 0   age             41188 non-null  int64  \n",
            " 1   job             41188 non-null  object \n",
            " 2   marital         41188 non-null  object \n",
            " 3   education       41188 non-null  object \n",
            " 4   default         41188 non-null  object \n",
            " 5   housing         41188 non-null  object \n",
            " 6   loan            41188 non-null  object \n",
            " 7   contact         41188 non-null  object \n",
            " 8   month           41188 non-null  object \n",
            " 9   day_of_week     41188 non-null  object \n",
            " 10  duration        41188 non-null  int64  \n",
            " 11  campaign        41188 non-null  int64  \n",
            " 12  pdays           41188 non-null  int64  \n",
            " 13  previous        41188 non-null  int64  \n",
            " 14  poutcome        41188 non-null  object \n",
            " 15  emp.var.rate    41188 non-null  float64\n",
            " 16  cons.price.idx  41188 non-null  float64\n",
            " 17  cons.conf.idx   41188 non-null  float64\n",
            " 18  euribor3m       41188 non-null  float64\n",
            " 19  nr.employed     41188 non-null  float64\n",
            " 20  y               41188 non-null  object \n",
            "dtypes: float64(5), int64(5), object(11)\n",
            "memory usage: 6.6+ MB\n",
            "None\n",
            "   age        job  marital    education  default housing loan    contact  \\\n",
            "0   56  housemaid  married     basic.4y       no      no   no  telephone   \n",
            "1   57   services  married  high.school  unknown      no   no  telephone   \n",
            "2   37   services  married  high.school       no     yes   no  telephone   \n",
            "3   40     admin.  married     basic.6y       no      no   no  telephone   \n",
            "4   56   services  married  high.school       no      no  yes  telephone   \n",
            "\n",
            "  month day_of_week  ...  campaign  pdays  previous     poutcome emp.var.rate  \\\n",
            "0   may         mon  ...         1    999         0  nonexistent          1.1   \n",
            "1   may         mon  ...         1    999         0  nonexistent          1.1   \n",
            "2   may         mon  ...         1    999         0  nonexistent          1.1   \n",
            "3   may         mon  ...         1    999         0  nonexistent          1.1   \n",
            "4   may         mon  ...         1    999         0  nonexistent          1.1   \n",
            "\n",
            "   cons.price.idx  cons.conf.idx  euribor3m  nr.employed   y  \n",
            "0          93.994          -36.4      4.857       5191.0  no  \n",
            "1          93.994          -36.4      4.857       5191.0  no  \n",
            "2          93.994          -36.4      4.857       5191.0  no  \n",
            "3          93.994          -36.4      4.857       5191.0  no  \n",
            "4          93.994          -36.4      4.857       5191.0  no  \n",
            "\n",
            "[5 rows x 21 columns]\n"
          ]
        }
      ],
      "source": [
        "import pandas as pd\n",
        "\n",
        "# Load the dataset\n",
        "df = pd.read_csv('bank-additional-full.csv', sep=';')\n",
        "\n",
        "# Display basic info\n",
        "print(df.info())\n",
        "print(df.head())\n"
      ]
    },
    {
      "cell_type": "code",
      "execution_count": 45,
      "metadata": {
        "colab": {
          "base_uri": "https://localhost:8080/"
        },
        "id": "bAXjwokiZcol",
        "outputId": "c0cc8b45-5211-4c78-c877-100ed46528d5"
      },
      "outputs": [
        {
          "output_type": "stream",
          "name": "stdout",
          "text": [
            "age               0\n",
            "job               0\n",
            "marital           0\n",
            "education         0\n",
            "default           0\n",
            "housing           0\n",
            "loan              0\n",
            "contact           0\n",
            "month             0\n",
            "day_of_week       0\n",
            "duration          0\n",
            "campaign          0\n",
            "pdays             0\n",
            "previous          0\n",
            "poutcome          0\n",
            "emp.var.rate      0\n",
            "cons.price.idx    0\n",
            "cons.conf.idx     0\n",
            "euribor3m         0\n",
            "nr.employed       0\n",
            "y                 0\n",
            "dtype: int64\n",
            "age               0.0\n",
            "job               0.0\n",
            "marital           0.0\n",
            "education         0.0\n",
            "default           0.0\n",
            "housing           0.0\n",
            "loan              0.0\n",
            "contact           0.0\n",
            "month             0.0\n",
            "day_of_week       0.0\n",
            "duration          0.0\n",
            "campaign          0.0\n",
            "pdays             0.0\n",
            "previous          0.0\n",
            "poutcome          0.0\n",
            "emp.var.rate      0.0\n",
            "cons.price.idx    0.0\n",
            "cons.conf.idx     0.0\n",
            "euribor3m         0.0\n",
            "nr.employed       0.0\n",
            "y                 0.0\n",
            "dtype: float64\n"
          ]
        }
      ],
      "source": [
        "# Check for missing values in each column\n",
        "print(df.isnull().sum())\n",
        "\n",
        "missing_percentage = df.isnull().sum() / len(df) * 100\n",
        "print(missing_percentage)"
      ]
    },
    {
      "cell_type": "code",
      "execution_count": 46,
      "metadata": {
        "colab": {
          "base_uri": "https://localhost:8080/"
        },
        "id": "WI45dQwwZcol",
        "outputId": "10da30a5-42b4-421f-bd46-9cab23e3442d"
      },
      "outputs": [
        {
          "output_type": "stream",
          "name": "stdout",
          "text": [
            "age                  0\n",
            "job                330\n",
            "marital             80\n",
            "education         1731\n",
            "default           8597\n",
            "housing            990\n",
            "loan               990\n",
            "contact              0\n",
            "month                0\n",
            "day_of_week          0\n",
            "duration             0\n",
            "campaign             0\n",
            "pdays                0\n",
            "previous             0\n",
            "poutcome             0\n",
            "emp.var.rate         0\n",
            "cons.price.idx       0\n",
            "cons.conf.idx        0\n",
            "euribor3m            0\n",
            "nr.employed          0\n",
            "y                    0\n",
            "dtype: int64\n",
            "age                0.000000\n",
            "job                0.801204\n",
            "marital            0.194231\n",
            "education          4.202680\n",
            "default           20.872584\n",
            "housing            2.403613\n",
            "loan               2.403613\n",
            "contact            0.000000\n",
            "month              0.000000\n",
            "day_of_week        0.000000\n",
            "duration           0.000000\n",
            "campaign           0.000000\n",
            "pdays              0.000000\n",
            "previous           0.000000\n",
            "poutcome           0.000000\n",
            "emp.var.rate       0.000000\n",
            "cons.price.idx     0.000000\n",
            "cons.conf.idx      0.000000\n",
            "euribor3m          0.000000\n",
            "nr.employed        0.000000\n",
            "y                  0.000000\n",
            "dtype: float64\n",
            "job           330\n",
            "marital        80\n",
            "education    1731\n",
            "default      8597\n",
            "housing       990\n",
            "loan          990\n",
            "dtype: int64\n"
          ]
        }
      ],
      "source": [
        "unknown_counts = (df == \"unknown\").sum()\n",
        "print(unknown_counts)\n",
        "\n",
        "unknown_percentage = (df == \"unknown\").mean() * 100\n",
        "print(unknown_percentage)\n",
        "\n",
        "# Filter columns with at least one \"unknown\"\n",
        "columns_with_unknown = unknown_counts[unknown_counts > 0]\n",
        "print(columns_with_unknown)\n"
      ]
    },
    {
      "cell_type": "code",
      "execution_count": 47,
      "metadata": {
        "colab": {
          "base_uri": "https://localhost:8080/"
        },
        "id": "DjzmWEuBZcol",
        "outputId": "311bfa7b-659c-4f78-c607-b6528b4df6dc"
      },
      "outputs": [
        {
          "output_type": "stream",
          "name": "stdout",
          "text": [
            "Original dataset shape: (41188, 21)\n",
            "Cleaned dataset shape: (40198, 21)\n"
          ]
        }
      ],
      "source": [
        "# Drop rows with 'unknown' in 'loan' or 'housing' columns\n",
        "df_cleaned = df[(df['loan'] != 'unknown') & (df['housing'] != 'unknown')]\n",
        "\n",
        "# Check the shape of the new dataset\n",
        "print(\"Original dataset shape:\", df.shape)\n",
        "print(\"Cleaned dataset shape:\", df_cleaned.shape)\n"
      ]
    },
    {
      "cell_type": "code",
      "source": [
        "unknown_counts = (df_cleaned == \"unknown\").sum()\n",
        "print(unknown_counts)"
      ],
      "metadata": {
        "colab": {
          "base_uri": "https://localhost:8080/"
        },
        "id": "DyBaj8jsc-Ds",
        "outputId": "d5ff2a00-0724-4a0e-b71e-152c4e6a7f81"
      },
      "execution_count": 48,
      "outputs": [
        {
          "output_type": "stream",
          "name": "stdout",
          "text": [
            "age                  0\n",
            "job                325\n",
            "marital             79\n",
            "education         1691\n",
            "default           8370\n",
            "housing              0\n",
            "loan                 0\n",
            "contact              0\n",
            "month                0\n",
            "day_of_week          0\n",
            "duration             0\n",
            "campaign             0\n",
            "pdays                0\n",
            "previous             0\n",
            "poutcome             0\n",
            "emp.var.rate         0\n",
            "cons.price.idx       0\n",
            "cons.conf.idx        0\n",
            "euribor3m            0\n",
            "nr.employed          0\n",
            "y                    0\n",
            "dtype: int64\n"
          ]
        }
      ]
    },
    {
      "cell_type": "code",
      "execution_count": 49,
      "metadata": {
        "colab": {
          "base_uri": "https://localhost:8080/"
        },
        "id": "4BYJyZ6jZcol",
        "outputId": "ab01abed-4950-4197-b203-ecc085b51bc8"
      },
      "outputs": [
        {
          "output_type": "stream",
          "name": "stdout",
          "text": [
            "   age        job  marital    education  default housing loan    contact  \\\n",
            "0   56  housemaid  married     basic.4y       no      no   no  telephone   \n",
            "1   57   services  married  high.school  unknown      no   no  telephone   \n",
            "2   37   services  married  high.school       no     yes   no  telephone   \n",
            "3   40     admin.  married     basic.6y       no      no   no  telephone   \n",
            "4   56   services  married  high.school       no      no  yes  telephone   \n",
            "\n",
            "  month day_of_week  campaign  pdays  previous     poutcome  emp.var.rate  \\\n",
            "0   may         mon         1    999         0  nonexistent           1.1   \n",
            "1   may         mon         1    999         0  nonexistent           1.1   \n",
            "2   may         mon         1    999         0  nonexistent           1.1   \n",
            "3   may         mon         1    999         0  nonexistent           1.1   \n",
            "4   may         mon         1    999         0  nonexistent           1.1   \n",
            "\n",
            "   cons.price.idx  cons.conf.idx  euribor3m  nr.employed   y  \n",
            "0          93.994          -36.4      4.857       5191.0  no  \n",
            "1          93.994          -36.4      4.857       5191.0  no  \n",
            "2          93.994          -36.4      4.857       5191.0  no  \n",
            "3          93.994          -36.4      4.857       5191.0  no  \n",
            "4          93.994          -36.4      4.857       5191.0  no  \n"
          ]
        }
      ],
      "source": [
        "# Drop the 'duration' column\n",
        "df_cleaned = df_cleaned.drop(columns=['duration'])\n",
        "\n",
        "# Check the result\n",
        "print(df_cleaned.head())\n"
      ]
    },
    {
      "cell_type": "code",
      "source": [
        "# Convert 'pdays' column to binary\n",
        "df_cleaned['pdays'] = df_cleaned['pdays'].apply(lambda x: 0 if x == 999 else 1)\n",
        "\n",
        "# Check the result\n",
        "print(df_cleaned['pdays'].head())\n"
      ],
      "metadata": {
        "colab": {
          "base_uri": "https://localhost:8080/"
        },
        "id": "YUyGYd2tg1f1",
        "outputId": "01230eb6-3eaf-47cc-f183-ecf7551474cc"
      },
      "execution_count": 50,
      "outputs": [
        {
          "output_type": "stream",
          "name": "stdout",
          "text": [
            "0    0\n",
            "1    0\n",
            "2    0\n",
            "3    0\n",
            "4    0\n",
            "Name: pdays, dtype: int64\n"
          ]
        }
      ]
    },
    {
      "cell_type": "code",
      "source": [
        "# Check unique values in the 'pdays' column\n",
        "unique_pdays = df_cleaned['pdays'].unique()\n",
        "\n",
        "# Print the unique values\n",
        "print(unique_pdays)\n"
      ],
      "metadata": {
        "colab": {
          "base_uri": "https://localhost:8080/"
        },
        "id": "gvkpqXFxhPvZ",
        "outputId": "1bacf824-da4d-41af-9c38-c81982639666"
      },
      "execution_count": 51,
      "outputs": [
        {
          "output_type": "stream",
          "name": "stdout",
          "text": [
            "[0 1]\n"
          ]
        }
      ]
    },
    {
      "cell_type": "code",
      "source": [
        "# Check class distribution of the target variable 'y'\n",
        "class_counts = df_cleaned['y'].value_counts()\n",
        "\n",
        "# Print the class counts\n",
        "print(class_counts)\n",
        "\n",
        "# Optionally, display the percentage of each class\n",
        "print(class_counts / len(df_cleaned) * 100)\n"
      ],
      "metadata": {
        "colab": {
          "base_uri": "https://localhost:8080/"
        },
        "id": "ft1wyjMhhlSR",
        "outputId": "a525e4fa-6fde-4bd1-b52a-9935425d590a"
      },
      "execution_count": 52,
      "outputs": [
        {
          "output_type": "stream",
          "name": "stdout",
          "text": [
            "y\n",
            "no     35665\n",
            "yes     4533\n",
            "Name: count, dtype: int64\n",
            "y\n",
            "no     88.72332\n",
            "yes    11.27668\n",
            "Name: count, dtype: float64\n"
          ]
        }
      ]
    },
    {
      "cell_type": "code",
      "source": [
        "import matplotlib.pyplot as plt\n",
        "\n",
        "# Plot the class distribution\n",
        "df_cleaned['y'].value_counts().plot(kind='bar', color=['skyblue', 'lightcoral'])\n",
        "plt.title('Class Distribution of Target Variable')\n",
        "plt.xlabel('Class')\n",
        "plt.ylabel('Frequency')\n",
        "plt.xticks(rotation=0)\n",
        "plt.show()\n"
      ],
      "metadata": {
        "colab": {
          "base_uri": "https://localhost:8080/",
          "height": 472
        },
        "id": "aHmTHffDh1IN",
        "outputId": "283e65fc-4e15-4e5c-dd9e-3b235a6374b8"
      },
      "execution_count": 36,
      "outputs": [
        {
          "output_type": "display_data",
          "data": {
            "text/plain": [
              "<Figure size 640x480 with 1 Axes>"
            ],
            "image/png": "[encoded data removed]"
          },
          "metadata": {}
        }
      ]
    },
    {
      "cell_type": "code",
      "source": [
        "import seaborn as sns\n",
        "import matplotlib.pyplot as plt\n",
        "\n",
        "# Select only numeric columns\n",
        "numeric_df = df_cleaned.select_dtypes(include=['float64', 'int64'])\n",
        "\n",
        "# Calculate the correlation matrix\n",
        "corr = numeric_df.corr()\n",
        "\n",
        "# Plot the heatmap\n",
        "plt.figure(figsize=(12, 8))\n",
        "sns.heatmap(corr, annot=True, cmap='coolwarm', fmt='.2f', cbar=True, square=True)\n",
        "plt.title('Correlation Heatmap')\n",
        "plt.tight_layout()\n",
        "plt.show()\n"
      ],
      "metadata": {
        "colab": {
          "base_uri": "https://localhost:8080/",
          "height": 582
        },
        "id": "5YygIKBDigW7",
        "outputId": "99a2148b-bfc5-4e4f-f52f-f96c59f8ce32"
      },
      "execution_count": 37,
      "outputs": [
        {
          "output_type": "display_data",
          "data": {
            "text/plain": [
              "<Figure size 1200x800 with 2 Axes>"
            ],
            "image/png": "[encoded data removed]"
          },
          "metadata": {}
        }
      ]
    },
    {
      "cell_type": "code",
      "source": [
        "# Identify categorical features (type 'object' or 'category')\n",
        "categorical_columns = df_cleaned.select_dtypes(include=['object', 'category']).columns\n",
        "\n",
        "# Display the first few rows of the categorical columns\n",
        "df_cleaned[categorical_columns].head()\n"
      ],
      "metadata": {
        "colab": {
          "base_uri": "https://localhost:8080/",
          "height": 226
        },
        "id": "5FgSpUazml36",
        "outputId": "606c76ca-2ce7-4bb0-cd7f-908d3d2ef868"
      },
      "execution_count": 53,
      "outputs": [
        {
          "output_type": "execute_result",
          "data": {
            "text/plain": [
              "         job  marital    education  default housing loan    contact month  \\\n",
              "0  housemaid  married     basic.4y       no      no   no  telephone   may   \n",
              "1   services  married  high.school  unknown      no   no  telephone   may   \n",
              "2   services  married  high.school       no     yes   no  telephone   may   \n",
              "3     admin.  married     basic.6y       no      no   no  telephone   may   \n",
              "4   services  married  high.school       no      no  yes  telephone   may   \n",
              "\n",
              "  day_of_week     poutcome   y  \n",
              "0         mon  nonexistent  no  \n",
              "1         mon  nonexistent  no  \n",
              "2         mon  nonexistent  no  \n",
              "3         mon  nonexistent  no  \n",
              "4         mon  nonexistent  no  "
            ],
            "text/html": [
              "\n",
              "  <div id=\"df-6a995247-2d67-497e-b35f-bf8f908686cf\" class=\"colab-df-container\">\n",
              "    <div>\n",
              "<style scoped>\n",
              "    .dataframe tbody tr th:only-of-type {\n",
              "        vertical-align: middle;\n",
              "    }\n",
              "\n",
              "    .dataframe tbody tr th {\n",
              "        vertical-align: top;\n",
              "    }\n",
              "\n",
              "    .dataframe thead th {\n",
              "        text-align: right;\n",
              "    }\n",
              "</style>\n",
              "<table border=\"1\" class=\"dataframe\">\n",
              "  <thead>\n",
              "    <tr style=\"text-align: right;\">\n",
              "      <th></th>\n",
              "      <th>job</th>\n",
              "      <th>marital</th>\n",
              "      <th>education</th>\n",
              "      <th>default</th>\n",
              "      <th>housing</th>\n",
              "      <th>loan</th>\n",
              "      <th>contact</th>\n",
              "      <th>month</th>\n",
              "      <th>day_of_week</th>\n",
              "      <th>poutcome</th>\n",
              "      <th>y</th>\n",
              "    </tr>\n",
              "  </thead>\n",
              "  <tbody>\n",
              "    <tr>\n",
              "      <th>0</th>\n",
              "      <td>housemaid</td>\n",
              "      <td>married</td>\n",
              "      <td>basic.4y</td>\n",
              "      <td>no</td>\n",
              "      <td>no</td>\n",
              "      <td>no</td>\n",
              "      <td>telephone</td>\n",
              "      <td>may</td>\n",
              "      <td>mon</td>\n",
              "      <td>nonexistent</td>\n",
              "      <td>no</td>\n",
              "    </tr>\n",
              "    <tr>\n",
              "      <th>1</th>\n",
              "      <td>services</td>\n",
              "      <td>married</td>\n",
              "      <td>high.school</td>\n",
              "      <td>unknown</td>\n",
              "      <td>no</td>\n",
              "      <td>no</td>\n",
              "      <td>telephone</td>\n",
              "      <td>may</td>\n",
              "      <td>mon</td>\n",
              "      <td>nonexistent</td>\n",
              "      <td>no</td>\n",
              "    </tr>\n",
              "    <tr>\n",
              "      <th>2</th>\n",
              "      <td>services</td>\n",
              "      <td>married</td>\n",
              "      <td>high.school</td>\n",
              "      <td>no</td>\n",
              "      <td>yes</td>\n",
              "      <td>no</td>\n",
              "      <td>telephone</td>\n",
              "      <td>may</td>\n",
              "      <td>mon</td>\n",
              "      <td>nonexistent</td>\n",
              "      <td>no</td>\n",
              "    </tr>\n",
              "    <tr>\n",
              "      <th>3</th>\n",
              "      <td>admin.</td>\n",
              "      <td>married</td>\n",
              "      <td>basic.6y</td>\n",
              "      <td>no</td>\n",
              "      <td>no</td>\n",
              "      <td>no</td>\n",
              "      <td>telephone</td>\n",
              "      <td>may</td>\n",
              "      <td>mon</td>\n",
              "      <td>nonexistent</td>\n",
              "      <td>no</td>\n",
              "    </tr>\n",
              "    <tr>\n",
              "      <th>4</th>\n",
              "      <td>services</td>\n",
              "      <td>married</td>\n",
              "      <td>high.school</td>\n",
              "      <td>no</td>\n",
              "      <td>no</td>\n",
              "      <td>yes</td>\n",
              "      <td>telephone</td>\n",
              "      <td>may</td>\n",
              "      <td>mon</td>\n",
              "      <td>nonexistent</td>\n",
              "      <td>no</td>\n",
              "    </tr>\n",
              "  </tbody>\n",
              "</table>\n",
              "</div>\n",
              "    <div class=\"colab-df-buttons\">\n",
              "\n",
              "  <div class=\"colab-df-container\">\n",
              "    <button class=\"colab-df-convert\" onclick=\"convertToInteractive('df-6a995247-2d67-497e-b35f-bf8f908686cf')\"\n",
              "            title=\"Convert this dataframe to an interactive table.\"\n",
              "            style=\"display:none;\">\n",
              "\n",
              "  <svg xmlns=\"http://www.w3.org/2000/svg\" height=\"24px\" viewBox=\"0 -960 960 960\">\n",
              "    <path d=\"M120-120v-720h720v720H120Zm60-500h600v-160H180v160Zm220 220h160v-160H400v160Zm0 220h160v-160H400v160ZM180-400h160v-160H180v160Zm440 0h160v-160H620v160ZM180-180h160v-160H180v160Zm440 0h160v-160H620v160Z\"/>\n",
              "  </svg>\n",
              "    </button>\n",
              "\n",
              "  <style>\n",
              "    .colab-df-container {\n",
              "      display:flex;\n",
              "      gap: 12px;\n",
              "    }\n",
              "\n",
              "    .colab-df-convert {\n",
              "      background-color: #E8F0FE;\n",
              "      border: none;\n",
              "      border-radius: 50%;\n",
              "      cursor: pointer;\n",
              "      display: none;\n",
              "      fill: #1967D2;\n",
              "      height: 32px;\n",
              "      padding: 0 0 0 0;\n",
              "      width: 32px;\n",
              "    }\n",
              "\n",
              "    .colab-df-convert:hover {\n",
              "      background-color: #E2EBFA;\n",
              "      box-shadow: 0px 1px 2px rgba(60, 64, 67, 0.3), 0px 1px 3px 1px rgba(60, 64, 67, 0.15);\n",
              "      fill: #174EA6;\n",
              "    }\n",
              "\n",
              "    .colab-df-buttons div {\n",
              "      margin-bottom: 4px;\n",
              "    }\n",
              "\n",
              "    [theme=dark] .colab-df-convert {\n",
              "      background-color: #3B4455;\n",
              "      fill: #D2E3FC;\n",
              "    }\n",
              "\n",
              "    [theme=dark] .colab-df-convert:hover {\n",
              "      background-color: #434B5C;\n",
              "      box-shadow: 0px 1px 3px 1px rgba(0, 0, 0, 0.15);\n",
              "      filter: drop-shadow(0px 1px 2px rgba(0, 0, 0, 0.3));\n",
              "      fill: #FFFFFF;\n",
              "    }\n",
              "  </style>\n",
              "\n",
              "    <script>\n",
              "      const buttonEl =\n",
              "        document.querySelector('#df-6a995247-2d67-497e-b35f-bf8f908686cf button.colab-df-convert');\n",
              "      buttonEl.style.display =\n",
              "        google.colab.kernel.accessAllowed ? 'block' : 'none';\n",
              "\n",
              "      async function convertToInteractive(key) {\n",
              "        const element = document.querySelector('#df-6a995247-2d67-497e-b35f-bf8f908686cf');\n",
              "        const dataTable =\n",
              "          await google.colab.kernel.invokeFunction('convertToInteractive',\n",
              "                                                    [key], {});\n",
              "        if (!dataTable) return;\n",
              "\n",
              "        const docLinkHtml = 'Like what you see? Visit the ' +\n",
              "          '<a target=\"_blank\" href=https://colab.research.google.com/notebooks/data_table.ipynb>data table notebook</a>'\n",
              "          + ' to learn more about interactive tables.';\n",
              "        element.innerHTML = '';\n",
              "        dataTable['output_type'] = 'display_data';\n",
              "        await google.colab.output.renderOutput(dataTable, element);\n",
              "        const docLink = document.createElement('div');\n",
              "        docLink.innerHTML = docLinkHtml;\n",
              "        element.appendChild(docLink);\n",
              "      }\n",
              "    </script>\n",
              "  </div>\n",
              "\n",
              "\n",
              "<div id=\"df-308077df-6ad9-4671-8712-1ae7723ee097\">\n",
              "  <button class=\"colab-df-quickchart\" onclick=\"quickchart('df-308077df-6ad9-4671-8712-1ae7723ee097')\"\n",
              "            title=\"Suggest charts\"\n",
              "            style=\"display:none;\">\n",
              "\n",
              "<svg xmlns=\"http://www.w3.org/2000/svg\" height=\"24px\"viewBox=\"0 0 24 24\"\n",
              "     width=\"24px\">\n",
              "    <g>\n",
              "        <path d=\"M19 3H5c-1.1 0-2 .9-2 2v14c0 1.1.9 2 2 2h14c1.1 0 2-.9 2-2V5c0-1.1-.9-2-2-2zM9 17H7v-7h2v7zm4 0h-2V7h2v10zm4 0h-2v-4h2v4z\"/>\n",
              "    </g>\n",
              "</svg>\n",
              "  </button>\n",
              "\n",
              "<style>\n",
              "  .colab-df-quickchart {\n",
              "      --bg-color: #E8F0FE;\n",
              "      --fill-color: #1967D2;\n",
              "      --hover-bg-color: #E2EBFA;\n",
              "      --hover-fill-color: #174EA6;\n",
              "      --disabled-fill-color: #AAA;\n",
              "      --disabled-bg-color: #DDD;\n",
              "  }\n",
              "\n",
              "  [theme=dark] .colab-df-quickchart {\n",
              "      --bg-color: #3B4455;\n",
              "      --fill-color: #D2E3FC;\n",
              "      --hover-bg-color: #434B5C;\n",
              "      --hover-fill-color: #FFFFFF;\n",
              "      --disabled-bg-color: #3B4455;\n",
              "      --disabled-fill-color: #666;\n",
              "  }\n",
              "\n",
              "  .colab-df-quickchart {\n",
              "    background-color: var(--bg-color);\n",
              "    border: none;\n",
              "    border-radius: 50%;\n",
              "    cursor: pointer;\n",
              "    display: none;\n",
              "    fill: var(--fill-color);\n",
              "    height: 32px;\n",
              "    padding: 0;\n",
              "    width: 32px;\n",
              "  }\n",
              "\n",
              "  .colab-df-quickchart:hover {\n",
              "    background-color: var(--hover-bg-color);\n",
              "    box-shadow: 0 1px 2px rgba(60, 64, 67, 0.3), 0 1px 3px 1px rgba(60, 64, 67, 0.15);\n",
              "    fill: var(--button-hover-fill-color);\n",
              "  }\n",
              "\n",
              "  .colab-df-quickchart-complete:disabled,\n",
              "  .colab-df-quickchart-complete:disabled:hover {\n",
              "    background-color: var(--disabled-bg-color);\n",
              "    fill: var(--disabled-fill-color);\n",
              "    box-shadow: none;\n",
              "  }\n",
              "\n",
              "  .colab-df-spinner {\n",
              "    border: 2px solid var(--fill-color);\n",
              "    border-color: transparent;\n",
              "    border-bottom-color: var(--fill-color);\n",
              "    animation:\n",
              "      spin 1s steps(1) infinite;\n",
              "  }\n",
              "\n",
              "  @keyframes spin {\n",
              "    0% {\n",
              "      border-color: transparent;\n",
              "      border-bottom-color: var(--fill-color);\n",
              "      border-left-color: var(--fill-color);\n",
              "    }\n",
              "    20% {\n",
              "      border-color: transparent;\n",
              "      border-left-color: var(--fill-color);\n",
              "      border-top-color: var(--fill-color);\n",
              "    }\n",
              "    30% {\n",
              "      border-color: transparent;\n",
              "      border-left-color: var(--fill-color);\n",
              "      border-top-color: var(--fill-color);\n",
              "      border-right-color: var(--fill-color);\n",
              "    }\n",
              "    40% {\n",
              "      border-color: transparent;\n",
              "      border-right-color: var(--fill-color);\n",
              "      border-top-color: var(--fill-color);\n",
              "    }\n",
              "    60% {\n",
              "      border-color: transparent;\n",
              "      border-right-color: var(--fill-color);\n",
              "    }\n",
              "    80% {\n",
              "      border-color: transparent;\n",
              "      border-right-color: var(--fill-color);\n",
              "      border-bottom-color: var(--fill-color);\n",
              "    }\n",
              "    90% {\n",
              "      border-color: transparent;\n",
              "      border-bottom-color: var(--fill-color);\n",
              "    }\n",
              "  }\n",
              "</style>\n",
              "\n",
              "  <script>\n",
              "    async function quickchart(key) {\n",
              "      const quickchartButtonEl =\n",
              "        document.querySelector('#' + key + ' button');\n",
              "      quickchartButtonEl.disabled = true;  // To prevent multiple clicks.\n",
              "      quickchartButtonEl.classList.add('colab-df-spinner');\n",
              "      try {\n",
              "        const charts = await google.colab.kernel.invokeFunction(\n",
              "            'suggestCharts', [key], {});\n",
              "      } catch (error) {\n",
              "        console.error('Error during call to suggestCharts:', error);\n",
              "      }\n",
              "      quickchartButtonEl.classList.remove('colab-df-spinner');\n",
              "      quickchartButtonEl.classList.add('colab-df-quickchart-complete');\n",
              "    }\n",
              "    (() => {\n",
              "      let quickchartButtonEl =\n",
              "        document.querySelector('#df-308077df-6ad9-4671-8712-1ae7723ee097 button');\n",
              "      quickchartButtonEl.style.display =\n",
              "        google.colab.kernel.accessAllowed ? 'block' : 'none';\n",
              "    })();\n",
              "  </script>\n",
              "</div>\n",
              "\n",
              "    </div>\n",
              "  </div>\n"
            ],
            "application/vnd.google.colaboratory.intrinsic+json": {
              "type": "dataframe",
              "summary": "{\n  \"name\": \"df_cleaned[categorical_columns]\",\n  \"rows\": 5,\n  \"fields\": [\n    {\n      \"column\": \"job\",\n      \"properties\": {\n        \"dtype\": \"string\",\n        \"num_unique_values\": 3,\n        \"samples\": [\n          \"housemaid\",\n          \"services\",\n          \"admin.\"\n        ],\n        \"semantic_type\": \"\",\n        \"description\": \"\"\n      }\n    },\n    {\n      \"column\": \"marital\",\n      \"properties\": {\n        \"dtype\": \"category\",\n        \"num_unique_values\": 1,\n        \"samples\": [\n          \"married\"\n        ],\n        \"semantic_type\": \"\",\n        \"description\": \"\"\n      }\n    },\n    {\n      \"column\": \"education\",\n      \"properties\": {\n        \"dtype\": \"string\",\n        \"num_unique_values\": 3,\n        \"samples\": [\n          \"basic.4y\"\n        ],\n        \"semantic_type\": \"\",\n        \"description\": \"\"\n      }\n    },\n    {\n      \"column\": \"default\",\n      \"properties\": {\n        \"dtype\": \"category\",\n        \"num_unique_values\": 2,\n        \"samples\": [\n          \"unknown\"\n        ],\n        \"semantic_type\": \"\",\n        \"description\": \"\"\n      }\n    },\n    {\n      \"column\": \"housing\",\n      \"properties\": {\n        \"dtype\": \"category\",\n        \"num_unique_values\": 2,\n        \"samples\": [\n          \"yes\"\n        ],\n        \"semantic_type\": \"\",\n        \"description\": \"\"\n      }\n    },\n    {\n      \"column\": \"loan\",\n      \"properties\": {\n        \"dtype\": \"category\",\n        \"num_unique_values\": 2,\n        \"samples\": [\n          \"yes\"\n        ],\n        \"semantic_type\": \"\",\n        \"description\": \"\"\n      }\n    },\n    {\n      \"column\": \"contact\",\n      \"properties\": {\n        \"dtype\": \"category\",\n        \"num_unique_values\": 1,\n        \"samples\": [\n          \"telephone\"\n        ],\n        \"semantic_type\": \"\",\n        \"description\": \"\"\n      }\n    },\n    {\n      \"column\": \"month\",\n      \"properties\": {\n        \"dtype\": \"category\",\n        \"num_unique_values\": 1,\n        \"samples\": [\n          \"may\"\n        ],\n        \"semantic_type\": \"\",\n        \"description\": \"\"\n      }\n    },\n    {\n      \"column\": \"day_of_week\",\n      \"properties\": {\n        \"dtype\": \"category\",\n        \"num_unique_values\": 1,\n        \"samples\": [\n          \"mon\"\n        ],\n        \"semantic_type\": \"\",\n        \"description\": \"\"\n      }\n    },\n    {\n      \"column\": \"poutcome\",\n      \"properties\": {\n        \"dtype\": \"category\",\n        \"num_unique_values\": 1,\n        \"samples\": [\n          \"nonexistent\"\n        ],\n        \"semantic_type\": \"\",\n        \"description\": \"\"\n      }\n    },\n    {\n      \"column\": \"y\",\n      \"properties\": {\n        \"dtype\": \"category\",\n        \"num_unique_values\": 1,\n        \"samples\": [\n          \"no\"\n        ],\n        \"semantic_type\": \"\",\n        \"description\": \"\"\n      }\n    }\n  ]\n}"
            }
          },
          "metadata": {},
          "execution_count": 53
        }
      ]
    },
    {
      "cell_type": "code",
      "source": [
        "\n",
        "# Get unique values for each categorical feature\n",
        "unique_values = {col: df_cleaned[col].unique() for col in categorical_columns}\n",
        "\n",
        "# Display the unique values for each categorical feature\n",
        "unique_values\n"
      ],
      "metadata": {
        "colab": {
          "base_uri": "https://localhost:8080/"
        },
        "id": "7Yl8uNuYl-bM",
        "outputId": "42d3022e-eb29-4f90-e625-34b155424941"
      },
      "execution_count": 54,
      "outputs": [
        {
          "output_type": "execute_result",
          "data": {
            "text/plain": [
              "{'job': array(['housemaid', 'services', 'admin.', 'blue-collar', 'technician',\n",
              "        'retired', 'management', 'unemployed', 'self-employed', 'unknown',\n",
              "        'entrepreneur', 'student'], dtype=object),\n",
              " 'marital': array(['married', 'single', 'divorced', 'unknown'], dtype=object),\n",
              " 'education': array(['basic.4y', 'high.school', 'basic.6y', 'basic.9y',\n",
              "        'professional.course', 'unknown', 'university.degree',\n",
              "        'illiterate'], dtype=object),\n",
              " 'default': array(['no', 'unknown', 'yes'], dtype=object),\n",
              " 'housing': array(['no', 'yes'], dtype=object),\n",
              " 'loan': array(['no', 'yes'], dtype=object),\n",
              " 'contact': array(['telephone', 'cellular'], dtype=object),\n",
              " 'month': array(['may', 'jun', 'jul', 'aug', 'oct', 'nov', 'dec', 'mar', 'apr',\n",
              "        'sep'], dtype=object),\n",
              " 'day_of_week': array(['mon', 'tue', 'wed', 'thu', 'fri'], dtype=object),\n",
              " 'poutcome': array(['nonexistent', 'failure', 'success'], dtype=object),\n",
              " 'y': array(['no', 'yes'], dtype=object)}"
            ]
          },
          "metadata": {},
          "execution_count": 54
        }
      ]
    },
    {
      "cell_type": "code",
      "source": [
        "import seaborn as sns\n",
        "import matplotlib.pyplot as plt\n",
        "\n",
        "# Plot boxplots for numeric columns\n",
        "numeric_columns = df_cleaned.select_dtypes(include=['float64', 'int64']).columns\n",
        "\n",
        "# Plot boxplots for each numeric column\n",
        "plt.figure(figsize=(12, 8))\n",
        "for i, col in enumerate(numeric_columns, 1):\n",
        "    plt.subplot(3, 3, i)  # Adjust the subplot grid size as needed\n",
        "    sns.boxplot(x=df_cleaned[col])\n",
        "    plt.title(f'Boxplot for {col}')\n",
        "\n",
        "plt.tight_layout()\n",
        "plt.show()\n"
      ],
      "metadata": {
        "colab": {
          "base_uri": "https://localhost:8080/",
          "height": 445
        },
        "id": "86NEGz1aq7NM",
        "outputId": "b587e769-5a16-4107-aec6-8d64ae5ab166"
      },
      "execution_count": 55,
      "outputs": [
        {
          "output_type": "display_data",
          "data": {
            "text/plain": [
              "<Figure size 1200x800 with 9 Axes>"
            ],
            "image/png": "[encoded data removed]"
          },
          "metadata": {}
        }
      ]
    },
    {
      "cell_type": "code",
      "source": [
        "# Get unique values in the 'age' column\n",
        "unique_age_values = df_cleaned['age'].unique()\n",
        "\n",
        "# Display the unique values\n",
        "print(unique_age_values)\n"
      ],
      "metadata": {
        "colab": {
          "base_uri": "https://localhost:8080/"
        },
        "id": "1f4wOuffuhWw",
        "outputId": "1e83ae8d-a61a-47a6-dd02-9b0fdb7cb96f"
      },
      "execution_count": 56,
      "outputs": [
        {
          "output_type": "stream",
          "name": "stdout",
          "text": [
            "[56 57 37 40 45 59 41 24 25 29 35 54 46 50 39 30 55 49 34 52 58 32 38 44\n",
            " 42 60 53 47 51 48 33 31 43 36 28 27 26 22 23 20 21 19 18 70 61 66 76 67\n",
            " 73 88 95 77 68 75 63 80 62 65 72 82 64 71 69 78 85 79 83 81 74 17 87 91\n",
            " 98 94 86 84 92 89]\n"
          ]
        }
      ]
    },
    {
      "cell_type": "code",
      "source": [
        "import pandas as pd\n",
        "from sklearn.preprocessing import LabelEncoder\n",
        "\n",
        "# Explicitly specify all months for consistent one-hot encoding\n",
        "all_months = ['jan', 'feb', 'mar', 'apr', 'may', 'jun', 'jul', 'aug', 'sep', 'oct', 'nov', 'dec']\n",
        "\n",
        "# Ensure 'month' column has all months as categories\n",
        "df_cleaned['month'] = pd.Categorical(df_cleaned['month'], categories=all_months, ordered=True)\n",
        "\n",
        "# Apply One-Hot Encoding to categorical features\n",
        "df_encoded = pd.get_dummies(df_cleaned, columns=[\n",
        "    'job', 'marital', 'education', 'contact', 'month', 'day_of_week', 'poutcome'\n",
        "])\n",
        "\n",
        "# Apply Label Encoding to binary categorical features\n",
        "label_encoder = LabelEncoder()\n",
        "\n",
        "# Binary categorical columns to label encode\n",
        "binary_columns = ['default', 'housing', 'loan', 'y']\n",
        "\n",
        "# Apply Label Encoding to binary columns\n",
        "for col in binary_columns:\n",
        "    df_encoded[col] = label_encoder.fit_transform(df_encoded[col])\n",
        "\n",
        "# Check the first few rows of the encoded dataframe\n",
        "print(df_encoded.head())\n",
        "\n",
        "# Check that all month columns are present\n",
        "print(df_encoded.filter(like='month_').columns)\n"
      ],
      "metadata": {
        "colab": {
          "base_uri": "https://localhost:8080/"
        },
        "id": "2WQKNBRbpW-J",
        "outputId": "9979cf6b-bc1c-4305-c930-86a4972ceb03"
      },
      "execution_count": 57,
      "outputs": [
        {
          "output_type": "stream",
          "name": "stdout",
          "text": [
            "   age  default  housing  loan  campaign  pdays  previous  emp.var.rate  \\\n",
            "0   56        0        0     0         1      0         0           1.1   \n",
            "1   57        1        0     0         1      0         0           1.1   \n",
            "2   37        0        1     0         1      0         0           1.1   \n",
            "3   40        0        0     0         1      0         0           1.1   \n",
            "4   56        0        0     1         1      0         0           1.1   \n",
            "\n",
            "   cons.price.idx  cons.conf.idx  ...  month_nov  month_dec  day_of_week_fri  \\\n",
            "0          93.994          -36.4  ...      False      False            False   \n",
            "1          93.994          -36.4  ...      False      False            False   \n",
            "2          93.994          -36.4  ...      False      False            False   \n",
            "3          93.994          -36.4  ...      False      False            False   \n",
            "4          93.994          -36.4  ...      False      False            False   \n",
            "\n",
            "   day_of_week_mon  day_of_week_thu  day_of_week_tue  day_of_week_wed  \\\n",
            "0             True            False            False            False   \n",
            "1             True            False            False            False   \n",
            "2             True            False            False            False   \n",
            "3             True            False            False            False   \n",
            "4             True            False            False            False   \n",
            "\n",
            "   poutcome_failure  poutcome_nonexistent  poutcome_success  \n",
            "0             False                  True             False  \n",
            "1             False                  True             False  \n",
            "2             False                  True             False  \n",
            "3             False                  True             False  \n",
            "4             False                  True             False  \n",
            "\n",
            "[5 rows x 59 columns]\n",
            "Index(['month_jan', 'month_feb', 'month_mar', 'month_apr', 'month_may',\n",
            "       'month_jun', 'month_jul', 'month_aug', 'month_sep', 'month_oct',\n",
            "       'month_nov', 'month_dec'],\n",
            "      dtype='object')\n"
          ]
        }
      ]
    },
    {
      "cell_type": "code",
      "source": [
        "# Display all columns with their data types\n",
        "print(df_encoded.dtypes)\n"
      ],
      "metadata": {
        "colab": {
          "base_uri": "https://localhost:8080/"
        },
        "id": "lAgOVyGMdvKB",
        "outputId": "3800ef26-392a-4f58-d5d0-ec05b488e1c4"
      },
      "execution_count": 59,
      "outputs": [
        {
          "output_type": "stream",
          "name": "stdout",
          "text": [
            "age                                int64\n",
            "default                            int64\n",
            "housing                            int64\n",
            "loan                               int64\n",
            "campaign                           int64\n",
            "pdays                              int64\n",
            "previous                           int64\n",
            "emp.var.rate                     float64\n",
            "cons.price.idx                   float64\n",
            "cons.conf.idx                    float64\n",
            "euribor3m                        float64\n",
            "nr.employed                      float64\n",
            "y                                  int64\n",
            "job_admin.                          bool\n",
            "job_blue-collar                     bool\n",
            "job_entrepreneur                    bool\n",
            "job_housemaid                       bool\n",
            "job_management                      bool\n",
            "job_retired                         bool\n",
            "job_self-employed                   bool\n",
            "job_services                        bool\n",
            "job_student                         bool\n",
            "job_technician                      bool\n",
            "job_unemployed                      bool\n",
            "job_unknown                         bool\n",
            "marital_divorced                    bool\n",
            "marital_married                     bool\n",
            "marital_single                      bool\n",
            "marital_unknown                     bool\n",
            "education_basic.4y                  bool\n",
            "education_basic.6y                  bool\n",
            "education_basic.9y                  bool\n",
            "education_high.school               bool\n",
            "education_illiterate                bool\n",
            "education_professional.course       bool\n",
            "education_university.degree         bool\n",
            "education_unknown                   bool\n",
            "contact_cellular                    bool\n",
            "contact_telephone                   bool\n",
            "month_jan                           bool\n",
            "month_feb                           bool\n",
            "month_mar                           bool\n",
            "month_apr                           bool\n",
            "month_may                           bool\n",
            "month_jun                           bool\n",
            "month_jul                           bool\n",
            "month_aug                           bool\n",
            "month_sep                           bool\n",
            "month_oct                           bool\n",
            "month_nov                           bool\n",
            "month_dec                           bool\n",
            "day_of_week_fri                     bool\n",
            "day_of_week_mon                     bool\n",
            "day_of_week_thu                     bool\n",
            "day_of_week_tue                     bool\n",
            "day_of_week_wed                     bool\n",
            "poutcome_failure                    bool\n",
            "poutcome_nonexistent                bool\n",
            "poutcome_success                    bool\n",
            "dtype: object\n"
          ]
        }
      ]
    },
    {
      "cell_type": "code",
      "source": [
        "import pandas as pd\n",
        "from sklearn.model_selection import train_test_split\n",
        "from sklearn.ensemble import RandomForestClassifier\n",
        "from sklearn.metrics import classification_report, accuracy_score\n",
        "\n",
        "# Define features (X) and target (y)\n",
        "X = df_encoded.drop(columns=['y'])  # Drop target column from features\n",
        "y = df_encoded['y']                 # Target column\n",
        "\n",
        "# Split the dataset into training and testing sets (80% training, 20% testing)\n",
        "X_train, X_test, y_train, y_test = train_test_split(X, y, test_size=0.2, random_state=42, stratify=y)\n",
        "\n",
        "# Initialize the Random Forest Classifier\n",
        "rf_model = RandomForestClassifier(random_state=42, n_estimators=100, max_depth=None)\n",
        "\n",
        "# Train the model\n",
        "rf_model.fit(X_train, y_train)\n",
        "\n",
        "# Predict on the training set and testing set\n",
        "y_train_pred = rf_model.predict(X_train)\n",
        "y_test_pred = rf_model.predict(X_test)\n",
        "\n",
        "# Calculate training and testing accuracy\n",
        "training_accuracy = accuracy_score(y_train, y_train_pred)\n",
        "testing_accuracy = accuracy_score(y_test, y_test_pred)\n",
        "\n",
        "# Print training and testing accuracy\n",
        "print(f\"Training Accuracy: {training_accuracy:.2f}\")\n",
        "print(f\"Testing Accuracy: {testing_accuracy:.2f}\")\n",
        "\n",
        "# Print classification report for the testing set\n",
        "print(\"\\nClassification Report (Test Data):\")\n",
        "print(classification_report(y_test, y_test_pred))\n"
      ],
      "metadata": {
        "colab": {
          "base_uri": "https://localhost:8080/"
        },
        "id": "NGf9f8rjlLjQ",
        "outputId": "ae714f13-6ecc-405c-d936-5226ceac3264"
      },
      "execution_count": 60,
      "outputs": [
        {
          "output_type": "stream",
          "name": "stdout",
          "text": [
            "Training Accuracy: 1.00\n",
            "Testing Accuracy: 0.90\n",
            "\n",
            "Classification Report (Test Data):\n",
            "              precision    recall  f1-score   support\n",
            "\n",
            "           0       0.92      0.97      0.94      7133\n",
            "           1       0.58      0.32      0.41       907\n",
            "\n",
            "    accuracy                           0.90      8040\n",
            "   macro avg       0.75      0.64      0.68      8040\n",
            "weighted avg       0.88      0.90      0.88      8040\n",
            "\n"
          ]
        }
      ]
    },
    {
      "cell_type": "code",
      "source": [
        "from imblearn.over_sampling import SMOTE\n",
        "\n",
        "# Define features (X) and target (y)\n",
        "X = df_encoded.drop(columns=['y'])  # Drop target column from features\n",
        "y = df_encoded['y']                 # Target column\n",
        "\n",
        "# Apply SMOTE to handle class imbalance (generates synthetic samples for minority class)\n",
        "smote = SMOTE(random_state=42)\n",
        "X_res, y_res = smote.fit_resample(X, y)\n",
        "\n",
        "# Check the class distribution after SMOTE\n",
        "print(f\"Class distribution before SMOTE: {y.value_counts()}\")\n",
        "print(f\"Class distribution after SMOTE: {y_res.value_counts()}\")\n"
      ],
      "metadata": {
        "colab": {
          "base_uri": "https://localhost:8080/"
        },
        "id": "mG1X6Mn-29_N",
        "outputId": "116d6ec1-7b7c-4ebc-ba4c-39942f05de20"
      },
      "execution_count": 74,
      "outputs": [
        {
          "output_type": "stream",
          "name": "stderr",
          "text": [
            "/usr/local/lib/python3.10/dist-packages/sklearn/base.py:474: FutureWarning: `BaseEstimator._validate_data` is deprecated in 1.6 and will be removed in 1.7. Use `sklearn.utils.validation.validate_data` instead. This function becomes public and is part of the scikit-learn developer API.\n",
            "  warnings.warn(\n",
            "/usr/local/lib/python3.10/dist-packages/sklearn/utils/_tags.py:354: FutureWarning: The SMOTE or classes from which it inherits use `_get_tags` and `_more_tags`. Please define the `__sklearn_tags__` method, or inherit from `sklearn.base.BaseEstimator` and/or other appropriate mixins such as `sklearn.base.TransformerMixin`, `sklearn.base.ClassifierMixin`, `sklearn.base.RegressorMixin`, and `sklearn.base.OutlierMixin`. From scikit-learn 1.7, not defining `__sklearn_tags__` will raise an error.\n",
            "  warnings.warn(\n"
          ]
        },
        {
          "output_type": "stream",
          "name": "stdout",
          "text": [
            "Class distribution before SMOTE: y\n",
            "0    35665\n",
            "1     4533\n",
            "Name: count, dtype: int64\n",
            "Class distribution after SMOTE: y\n",
            "0    35665\n",
            "1    35665\n",
            "Name: count, dtype: int64\n"
          ]
        }
      ]
    },
    {
      "cell_type": "code",
      "source": [
        "from sklearn.ensemble import RandomForestClassifier\n",
        "from sklearn.model_selection import train_test_split, cross_val_score\n",
        "from sklearn.metrics import classification_report, accuracy_score, confusion_matrix\n",
        "\n",
        "# Split the resampled data into training and testing sets (80% training, 20% testing)\n",
        "X_train_res, X_test, y_train_res, y_test = train_test_split(X_res, y_res, test_size=0.2, random_state=42, stratify=y_res)\n",
        "\n",
        "# Initialize the Random Forest Classifier with hyperparameters to avoid overfitting\n",
        "rf_model = RandomForestClassifier(\n",
        "    random_state=42,\n",
        "    n_estimators=100,           # Number of trees\n",
        "    max_depth=10,               # Limit depth of trees to prevent overfitting\n",
        "    min_samples_split=10,       # Minimum samples required to split an internal node\n",
        "    min_samples_leaf=5,         # Minimum samples required to be at a leaf node\n",
        "    class_weight='balanced'     # Automatically adjusts weights for imbalanced classes\n",
        ")\n",
        "\n",
        "# Perform 5-fold cross-validation on the resampled training data\n",
        "cv_scores = cross_val_score(rf_model, X_train_res, y_train_res, cv=5, scoring='accuracy')\n",
        "\n",
        "# Train the model on the entire resampled training set\n",
        "rf_model.fit(X_train_res, y_train_res)\n",
        "\n",
        "# Predict on the training and testing sets\n",
        "y_train_pred = rf_model.predict(X_train_res)\n",
        "y_test_pred = rf_model.predict(X_test)\n",
        "\n",
        "# Calculate training accuracy\n",
        "training_accuracy = accuracy_score(y_train_res, y_train_pred)\n",
        "\n",
        "# Calculate testing accuracy\n",
        "testing_accuracy = accuracy_score(y_test, y_test_pred)\n",
        "\n",
        "# Print cross-validation scores\n",
        "print(f\"Cross-validation Accuracy: {cv_scores.mean():.2f} ± {cv_scores.std():.2f}\")\n",
        "\n",
        "# Print training accuracy\n",
        "print(f\"Training Accuracy: {training_accuracy:.2f}\")\n",
        "\n",
        "# Print testing accuracy\n",
        "print(f\"Testing Accuracy: {testing_accuracy:.2f}\")\n",
        "\n",
        "# Print classification report for the testing set\n",
        "print(\"\\nClassification Report (Test Data):\")\n",
        "print(classification_report(y_test, y_test_pred))\n",
        "\n",
        "# Print confusion matrix for the training set\n",
        "train_conf_matrix = confusion_matrix(y_train_res, y_train_pred)\n",
        "print(\"\\nConfusion Matrix (Training Data):\")\n",
        "print(train_conf_matrix)\n",
        "\n",
        "# Print confusion matrix for the testing set\n",
        "test_conf_matrix = confusion_matrix(y_test, y_test_pred)\n",
        "print(\"\\nConfusion Matrix (Test Data):\")\n",
        "print(test_conf_matrix)\n"
      ],
      "metadata": {
        "colab": {
          "base_uri": "https://localhost:8080/"
        },
        "id": "9mQ5nc_a5cIC",
        "outputId": "64184943-fcee-4ae9-9718-fe15390853c2"
      },
      "execution_count": 78,
      "outputs": [
        {
          "output_type": "stream",
          "name": "stdout",
          "text": [
            "Cross-validation Accuracy: 0.84 ± 0.00\n",
            "Training Accuracy: 0.84\n",
            "Testing Accuracy: 0.84\n",
            "\n",
            "Classification Report (Test Data):\n",
            "              precision    recall  f1-score   support\n",
            "\n",
            "           0       0.80      0.91      0.85      7133\n",
            "           1       0.89      0.77      0.83      7133\n",
            "\n",
            "    accuracy                           0.84     14266\n",
            "   macro avg       0.84      0.84      0.84     14266\n",
            "weighted avg       0.84      0.84      0.84     14266\n",
            "\n",
            "\n",
            "Confusion Matrix (Training Data):\n",
            "[[25866  2666]\n",
            " [ 6281 22251]]\n",
            "\n",
            "Confusion Matrix (Test Data):\n",
            "[[6459  674]\n",
            " [1634 5499]]\n"
          ]
        }
      ]
    },
    {
      "cell_type": "code",
      "source": [
        "from sklearn.ensemble import RandomForestClassifier\n",
        "from sklearn.model_selection import train_test_split\n",
        "from sklearn.metrics import classification_report, accuracy_score, confusion_matrix\n",
        "import numpy as np\n",
        "\n",
        "# Manually selected hyperparameters to speed up the search process\n",
        "hyperparameters = [\n",
        "    {'n_estimators': 50, 'max_depth': 10, 'min_samples_split': 10, 'min_samples_leaf': 5},\n",
        "    {'n_estimators': 100, 'max_depth': 10, 'min_samples_split': 5, 'min_samples_leaf': 2},\n",
        "    {'n_estimators': 200, 'max_depth': None, 'min_samples_split': 10, 'min_samples_leaf': 1},\n",
        "    {'n_estimators': 100, 'max_depth': 15, 'min_samples_split': 2, 'min_samples_leaf': 2},\n",
        "    {'n_estimators': 150, 'max_depth': 20, 'min_samples_split': 5, 'min_samples_leaf': 3}\n",
        "]\n",
        "\n",
        "best_model = None\n",
        "best_accuracy = 0\n",
        "\n",
        "# Split the resampled data into training and testing sets (80% training, 20% testing)\n",
        "X_train_res, X_test, y_train_res, y_test = train_test_split(X_res, y_res, test_size=0.2, random_state=42, stratify=y_res)\n",
        "\n",
        "# Iterate through the hyperparameters and check the accuracy\n",
        "for params in hyperparameters:\n",
        "    rf_model = RandomForestClassifier(random_state=42, class_weight='balanced', n_jobs=-1, **params)\n",
        "\n",
        "    rf_model.fit(X_train_res, y_train_res)\n",
        "\n",
        "    # Predict on the training and testing sets\n",
        "    y_train_pred = rf_model.predict(X_train_res)\n",
        "    y_test_pred = rf_model.predict(X_test)\n",
        "\n",
        "    # Calculate training accuracy\n",
        "    training_accuracy = accuracy_score(y_train_res, y_train_pred)\n",
        "\n",
        "    # Calculate testing accuracy\n",
        "    testing_accuracy = accuracy_score(y_test, y_test_pred)\n",
        "\n",
        "    # Track the best model\n",
        "    if testing_accuracy > best_accuracy:\n",
        "        best_accuracy = testing_accuracy\n",
        "        best_training_accuracy = training_accuracy\n",
        "        best_model = rf_model\n",
        "\n",
        "# Print the best testing accuracy\n",
        "print(f\"Best Testing Accuracy: {best_accuracy:.2f}\")\n",
        "print(f\"Best Training Accuracy: {best_training_accuracy:.2f}\")\n",
        "\n",
        "# Print classification report for the best model on the test data\n",
        "print(\"\\nClassification Report (Test Data):\")\n",
        "print(classification_report(y_test, best_model.predict(X_test)))\n",
        "\n",
        "# Print confusion matrix for the best model on the test data\n",
        "test_conf_matrix = confusion_matrix(y_test, best_model.predict(X_test))\n",
        "print(\"\\nConfusion Matrix (Test Data):\")\n",
        "print(test_conf_matrix)\n"
      ],
      "metadata": {
        "colab": {
          "base_uri": "https://localhost:8080/"
        },
        "id": "8uUOBQ_t7LUp",
        "outputId": "13fe78fa-35f0-4baf-8577-4ced1c12ad29"
      },
      "execution_count": 81,
      "outputs": [
        {
          "output_type": "stream",
          "name": "stdout",
          "text": [
            "Best Testing Accuracy: 0.94\n",
            "Best Training Accuracy: 0.97\n",
            "\n",
            "Classification Report (Test Data):\n",
            "              precision    recall  f1-score   support\n",
            "\n",
            "           0       0.94      0.94      0.94      7133\n",
            "           1       0.94      0.94      0.94      7133\n",
            "\n",
            "    accuracy                           0.94     14266\n",
            "   macro avg       0.94      0.94      0.94     14266\n",
            "weighted avg       0.94      0.94      0.94     14266\n",
            "\n",
            "\n",
            "Confusion Matrix (Test Data):\n",
            "[[6722  411]\n",
            " [ 445 6688]]\n"
          ]
        }
      ]
    },
    {
      "cell_type": "code",
      "source": [
        "from sklearn.ensemble import RandomForestClassifier\n",
        "from sklearn.model_selection import train_test_split\n",
        "from sklearn.metrics import classification_report, accuracy_score, confusion_matrix\n",
        "from sklearn.model_selection import cross_val_score\n",
        "import numpy as np\n",
        "\n",
        "# Manually selected hyperparameters to speed up the search process\n",
        "hyperparameters = [\n",
        "    {'n_estimators': 50, 'max_depth': 10, 'min_samples_split': 10, 'min_samples_leaf': 5},\n",
        "    {'n_estimators': 100, 'max_depth': 10, 'min_samples_split': 5, 'min_samples_leaf': 2},\n",
        "    {'n_estimators': 200, 'max_depth': 15, 'min_samples_split': 10, 'min_samples_leaf': 3},\n",
        "    {'n_estimators': 150, 'max_depth': 20, 'min_samples_split': 5, 'min_samples_leaf': 3},\n",
        "]\n",
        "\n",
        "best_model = None\n",
        "best_accuracy = 0\n",
        "\n",
        "# Split the resampled data into training and testing sets (80% training, 20% testing)\n",
        "X_train_res, X_test, y_train_res, y_test = train_test_split(X_res, y_res, test_size=0.2, random_state=42, stratify=y_res)\n",
        "\n",
        "# Iterate through the hyperparameters and check the accuracy\n",
        "for params in hyperparameters:\n",
        "    rf_model = RandomForestClassifier(random_state=42, class_weight='balanced', n_jobs=-1, **params)\n",
        "\n",
        "    # Use cross-validation to evaluate performance and prevent overfitting\n",
        "    cv_scores = cross_val_score(rf_model, X_train_res, y_train_res, cv=5, scoring='accuracy')\n",
        "\n",
        "    # Calculate the mean cross-validation score\n",
        "    cv_mean_score = np.mean(cv_scores)\n",
        "\n",
        "    # Train the model using the entire training data\n",
        "    rf_model.fit(X_train_res, y_train_res)\n",
        "\n",
        "    # Predict on the training and testing sets\n",
        "    y_train_pred = rf_model.predict(X_train_res)\n",
        "    y_test_pred = rf_model.predict(X_test)\n",
        "\n",
        "    # Calculate training accuracy\n",
        "    training_accuracy = accuracy_score(y_train_res, y_train_pred)\n",
        "\n",
        "    # Calculate testing accuracy\n",
        "    testing_accuracy = accuracy_score(y_test, y_test_pred)\n",
        "\n",
        "    # Track the best model based on cross-validation score\n",
        "    if cv_mean_score > best_accuracy:\n",
        "        best_accuracy = cv_mean_score\n",
        "        best_training_accuracy = training_accuracy\n",
        "        best_model = rf_model\n",
        "\n",
        "# Print the best testing accuracy\n",
        "print(f\"Best Testing Accuracy (CV Mean): {best_accuracy:.2f}\")\n",
        "print(f\"Best Training Accuracy: {best_training_accuracy:.2f}\")\n",
        "\n",
        "# Print classification report for the best model on the test data\n",
        "print(\"\\nClassification Report (Test Data):\")\n",
        "print(classification_report(y_test, best_model.predict(X_test)))\n",
        "\n",
        "# Print confusion matrix for the best model on the test data\n",
        "test_conf_matrix = confusion_matrix(y_test, best_model.predict(X_test))\n",
        "print(\"\\nConfusion Matrix (Test Data):\")\n",
        "print(test_conf_matrix)\n"
      ],
      "metadata": {
        "colab": {
          "base_uri": "https://localhost:8080/"
        },
        "id": "qqctyaFI9VbP",
        "outputId": "7b0049cc-3346-477f-d949-9656768920af"
      },
      "execution_count": 82,
      "outputs": [
        {
          "output_type": "stream",
          "name": "stdout",
          "text": [
            "Best Testing Accuracy (CV Mean): 0.92\n",
            "Best Training Accuracy: 0.95\n",
            "\n",
            "Classification Report (Test Data):\n",
            "              precision    recall  f1-score   support\n",
            "\n",
            "           0       0.92      0.93      0.93      7133\n",
            "           1       0.93      0.92      0.93      7133\n",
            "\n",
            "    accuracy                           0.93     14266\n",
            "   macro avg       0.93      0.93      0.93     14266\n",
            "weighted avg       0.93      0.93      0.93     14266\n",
            "\n",
            "\n",
            "Confusion Matrix (Test Data):\n",
            "[[6660  473]\n",
            " [ 560 6573]]\n"
          ]
        }
      ]
    }
  ],
  "metadata": {
    "language_info": {
      "name": "python"
    },
    "colab": {
      "provenance": [],
      "include_colab_link": true
    },
    "kernelspec": {
      "name": "python3",
      "display_name": "Python 3"
    }
  },
  "nbformat": 4,
  "nbformat_minor": 0
}